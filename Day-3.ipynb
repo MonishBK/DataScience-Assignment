{
 "cells": [
  {
   "cell_type": "markdown",
   "metadata": {},
   "source": [
    "# Question-1"
   ]
  },
  {
   "cell_type": "code",
   "execution_count": 2,
   "metadata": {},
   "outputs": [
    {
     "name": "stdout",
     "output_type": "stream",
     "text": [
      "[ 2  5  8 11 14 17 20 23 26 29 32 35 38 41 44 47]\n"
     ]
    }
   ],
   "source": [
    "import numpy as np\n",
    "\n",
    "arr = np.arange(2,50,3)\n",
    "print(arr)"
   ]
  },
  {
   "cell_type": "markdown",
   "metadata": {},
   "source": [
    "# Question-2"
   ]
  },
  {
   "cell_type": "code",
   "execution_count": 4,
   "metadata": {},
   "outputs": [
    {
     "name": "stdout",
     "output_type": "stream",
     "text": [
      "list1:\n",
      "1\n",
      "2\n",
      "3\n",
      "4\n",
      "5\n",
      "list2:\n",
      "6\n",
      "7\n",
      "8\n",
      "9\n",
      "0\n",
      "concatenated list:\n",
      "[1 2 3 4 5 6 7 8 9 0]\n",
      "sorted list:\n",
      "[0 1 2 3 4 5 6 7 8 9]\n"
     ]
    }
   ],
   "source": [
    "import numpy as np\n",
    "\n",
    "a1=[]\n",
    "a2=[]\n",
    "\n",
    "print(\"list1:\")\n",
    "for i in range(0,5):\n",
    "    i=int(input())\n",
    "    a1.append(i)\n",
    "\n",
    "print(\"list2:\")\n",
    "for j in range(0,5):\n",
    "    j=int(input())\n",
    "    a2.append(j)\n",
    "\n",
    "arr1=np.array(a1)\n",
    "arr2=np.array(a2)\n",
    "\n",
    "con=np.concatenate((arr1,arr2),axis=0)\n",
    "print(\"concatenated list:\")\n",
    "print(con)\n",
    "\n",
    "s=np.sort(con)\n",
    "print(\"sorted list:\")\n",
    "print(s)"
   ]
  },
  {
   "cell_type": "markdown",
   "metadata": {},
   "source": [
    "# Question-3"
   ]
  },
  {
   "cell_type": "code",
   "execution_count": 5,
   "metadata": {},
   "outputs": [
    {
     "name": "stdout",
     "output_type": "stream",
     "text": [
      "[[0 1 2]\n",
      " [3 4 5]]\n",
      "No. of dimensions:  2\n",
      "size of the array:  6\n"
     ]
    }
   ],
   "source": [
    "import numpy as np\n",
    "\n",
    "arr = np.arange(6).reshape(2,3)\n",
    "print(arr)\n",
    "print(\"No. of dimensions: \", arr.ndim)\n",
    "print(\"size of the array: \", arr.size)"
   ]
  },
  {
   "cell_type": "markdown",
   "metadata": {},
   "source": [
    "# Question-4"
   ]
  },
  {
   "cell_type": "code",
   "execution_count": 6,
   "metadata": {},
   "outputs": [
    {
     "name": "stdout",
     "output_type": "stream",
     "text": [
      "(1, 6)\n",
      "(6, 1)\n"
     ]
    }
   ],
   "source": [
    "#using newaxis()\n",
    "arr = np.arange(6)\n",
    "a = arr[np.newaxis, :]\n",
    "print(a.shape) \n",
    "\n",
    "#using expand_dims()\n",
    "b = np.expand_dims(arr, axis=1)\n",
    "print(b.shape)"
   ]
  },
  {
   "cell_type": "markdown",
   "metadata": {},
   "source": [
    "# Question-5"
   ]
  },
  {
   "cell_type": "code",
   "execution_count": 7,
   "metadata": {},
   "outputs": [
    {
     "name": "stdout",
     "output_type": "stream",
     "text": [
      "vertical stack:\n",
      " [[1 1]\n",
      " [2 2]\n",
      " [3 3]\n",
      " [4 4]]\n",
      "horizontal stack:\n",
      " [[1 1 3 3]\n",
      " [2 2 4 4]]\n"
     ]
    }
   ],
   "source": [
    "import numpy as np\n",
    "\n",
    "a1 = np.array([[1, 1], [2, 2]])\n",
    "a2 = np.array([[3, 3], [4, 4]])\n",
    "\n",
    "ver=np.vstack((a1,a2))\n",
    "hor=np.hstack((a1,a2))\n",
    "print(\"vertical stack:\\n\",ver)\n",
    "print(\"horizontal stack:\\n\",hor)"
   ]
  },
  {
   "cell_type": "markdown",
   "metadata": {},
   "source": [
    "# Question-6"
   ]
  },
  {
   "cell_type": "code",
   "execution_count": 8,
   "metadata": {},
   "outputs": [
    {
     "name": "stdout",
     "output_type": "stream",
     "text": [
      "unique values:\n",
      " [10 11 12 13 14 15 16 17 18 19 20]\n",
      "count of unique values:\n",
      " [1 3 1 2 2 1 1 1 1 1 1]\n"
     ]
    }
   ],
   "source": [
    "import numpy as np\n",
    "\n",
    "arr = np.array([11, 11, 12, 13, 14, 15, 16, 17, 10, 11, 13, 18, 14, 19, 20])\n",
    "unique_values = np.unique(arr)\n",
    "print(\"unique values:\\n\",unique_values)\n",
    "#count=np.count\n",
    "unique_values, occurrence_count = np.unique(arr, return_counts=True)\n",
    "print(\"count of unique values:\\n\",occurrence_count)"
   ]
  },
  {
   "cell_type": "code",
   "execution_count": null,
   "metadata": {},
   "outputs": [],
   "source": []
  }
 ],
 "metadata": {
  "kernelspec": {
   "display_name": "Python 3",
   "language": "python",
   "name": "python3"
  },
  "language_info": {
   "codemirror_mode": {
    "name": "ipython",
    "version": 3
   },
   "file_extension": ".py",
   "mimetype": "text/x-python",
   "name": "python",
   "nbconvert_exporter": "python",
   "pygments_lexer": "ipython3",
   "version": "3.8.3"
  }
 },
 "nbformat": 4,
 "nbformat_minor": 4
}
