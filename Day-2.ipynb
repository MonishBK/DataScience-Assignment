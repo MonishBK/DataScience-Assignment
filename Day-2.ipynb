{
 "cells": [
  {
   "cell_type": "markdown",
   "metadata": {},
   "source": [
    "# Question-1"
   ]
  },
  {
   "cell_type": "code",
   "execution_count": 2,
   "metadata": {},
   "outputs": [
    {
     "name": "stdout",
     "output_type": "stream",
     "text": [
      "1\n",
      "2\n",
      "3\n",
      "4\n",
      "5\n",
      "6\n",
      "7\n",
      "8\n",
      "9\n",
      "6\n",
      "[1, 2, 3, 4, 5, 6, 7, 8, 9, 6]\n"
     ]
    }
   ],
   "source": [
    "a=[]\n",
    "for i in range(0,10):\n",
    "    u=int(input())\n",
    "    a.append(u)\n",
    "print(a)"
   ]
  },
  {
   "cell_type": "markdown",
   "metadata": {},
   "source": [
    "# Question-2"
   ]
  },
  {
   "cell_type": "code",
   "execution_count": 4,
   "metadata": {},
   "outputs": [
    {
     "name": "stdout",
     "output_type": "stream",
     "text": [
      "The first list is : [1, 4, 2, 5, 6, 8]\n",
      "The second list is : [1, 4, 2, 5, 6, 8]\n",
      "The second list is : [3, 5, 3, 6, 7, 6]\n",
      "The lists are equal\n",
      "The lists are not identical\n"
     ]
    }
   ],
   "source": [
    "l1 =[ 1,4,2,5,6,8]\n",
    "l2 =[ 1,4,2,5,6,8]\n",
    "l3 = [3,5,3,6,7,6]\n",
    "print (\"The first list is : \" + str(l1)) \n",
    "print (\"The second list is : \" + str(l2)) \n",
    "print (\"The second list is : \" + str(l3)) \n",
    "  \n",
    "if len(l1)== len(l2): \n",
    "    print (\"The lists are equal\") \n",
    "else : \n",
    "    print (\"The lists are not equal\")\n",
    "\n",
    "if len(l1) == sum([1 for i, j in zip(l1, l3) if i == j]):\n",
    "    print (\"The lists are ideltical\") \n",
    "else : \n",
    "    print (\"The lists are not identical\") "
   ]
  },
  {
   "cell_type": "markdown",
   "metadata": {},
   "source": [
    "# Question-3"
   ]
  },
  {
   "cell_type": "code",
   "execution_count": 5,
   "metadata": {},
   "outputs": [
    {
     "name": "stdout",
     "output_type": "stream",
     "text": [
      "5\n",
      "{1: 1, 2: 4, 3: 9, 4: 16, 5: 25}\n"
     ]
    }
   ],
   "source": [
    "d={}\n",
    "n=int(input())\n",
    "for i in range(1,n+1):\n",
    "    d[i]=i*i\n",
    "    \n",
    "print(d)"
   ]
  },
  {
   "cell_type": "markdown",
   "metadata": {},
   "source": [
    "# Question-4"
   ]
  },
  {
   "cell_type": "code",
   "execution_count": 7,
   "metadata": {},
   "outputs": [
    {
     "name": "stdout",
     "output_type": "stream",
     "text": [
      "4\n",
      "UP 5\n",
      "DOWN 3\n",
      "LEFT 3\n",
      "RIGHT 2\n",
      "2\n"
     ]
    }
   ],
   "source": [
    "import math\n",
    "x,y=0,0\n",
    "m=int(input())\n",
    "while m>0:\n",
    "    s = input()\n",
    "    if not s:\n",
    "        break\n",
    "    movement = s.split(\" \")\n",
    "    direction = movement[0]\n",
    "    steps = int(movement[1])\n",
    "    if direction==\"UP\":\n",
    "        x+=steps\n",
    "    elif direction==\"DOWN\":\n",
    "        x-=steps    \n",
    "    elif direction==\"LEFT\":\n",
    "        y-=steps\n",
    "    elif direction==\"RIGHT\":\n",
    "        y+=steps\n",
    "    \n",
    "    m-=1\n",
    "\n",
    "\n",
    "dist = round(math.sqrt(y**2 + x**2))  \n",
    "print(dist)"
   ]
  },
  {
   "cell_type": "code",
   "execution_count": null,
   "metadata": {},
   "outputs": [],
   "source": []
  }
 ],
 "metadata": {
  "kernelspec": {
   "display_name": "Python 3",
   "language": "python",
   "name": "python3"
  },
  "language_info": {
   "codemirror_mode": {
    "name": "ipython",
    "version": 3
   },
   "file_extension": ".py",
   "mimetype": "text/x-python",
   "name": "python",
   "nbconvert_exporter": "python",
   "pygments_lexer": "ipython3",
   "version": "3.8.3"
  }
 },
 "nbformat": 4,
 "nbformat_minor": 4
}
